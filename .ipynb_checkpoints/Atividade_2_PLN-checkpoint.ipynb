{
  "cells": [
    {
      "cell_type": "markdown",
      "metadata": {
        "id": "KzIdTKQZ6vo-"
      },
      "source": [
        "\n",
        "**NOME**: MARIA MARCOLINA LIMA CARDOSO\n",
        "\n",
        "**MATRÍCULA**: 2023002133"
      ]
    },
    {
      "cell_type": "code",
      "execution_count": 157,
      "metadata": {
        "id": "hNjKmSjzLPG6"
      },
      "outputs": [],
      "source": [
        "import pandas as pd\n",
        "from sklearn.model_selection import train_test_split\n",
        "from sklearn.feature_extraction.text import CountVectorizer, TfidfVectorizer\n",
        "from sklearn.naive_bayes import MultinomialNB\n",
        "from sklearn.metrics import accuracy_score\n",
        "import re\n"
      ]
    },
    {
      "cell_type": "code",
      "execution_count": 158,
      "metadata": {
        "colab": {
          "base_uri": "https://localhost:8080/",
          "height": 1000
        },
        "id": "k6uoluimOZ35",
        "outputId": "2240b901-ad97-4245-b638-6aeaffa0f629"
      },
      "outputs": [
        {
          "name": "stderr",
          "output_type": "stream",
          "text": [
            "<ipython-input-158-7fce1bcb7f0c>:2: DtypeWarning: Columns (2) have mixed types. Specify dtype option on import or set low_memory=False.\n",
            "  df = pd.read_csv('B2W-Reviews01.csv')\n"
          ]
        },
        {
          "data": {
            "application/vnd.google.colaboratory.intrinsic+json": {
              "type": "dataframe",
              "variable_name": "df"
            },
            "text/html": [
              "\n",
              "  <div id=\"df-c823f720-4b74-4e16-8da7-7e55b1c49c54\" class=\"colab-df-container\">\n",
              "    <div>\n",
              "<style scoped>\n",
              "    .dataframe tbody tr th:only-of-type {\n",
              "        vertical-align: middle;\n",
              "    }\n",
              "\n",
              "    .dataframe tbody tr th {\n",
              "        vertical-align: top;\n",
              "    }\n",
              "\n",
              "    .dataframe thead th {\n",
              "        text-align: right;\n",
              "    }\n",
              "</style>\n",
              "<table border=\"1\" class=\"dataframe\">\n",
              "  <thead>\n",
              "    <tr style=\"text-align: right;\">\n",
              "      <th></th>\n",
              "      <th>submission_date</th>\n",
              "      <th>reviewer_id</th>\n",
              "      <th>product_id</th>\n",
              "      <th>product_name</th>\n",
              "      <th>product_brand</th>\n",
              "      <th>site_category_lv1</th>\n",
              "      <th>site_category_lv2</th>\n",
              "      <th>review_title</th>\n",
              "      <th>overall_rating</th>\n",
              "      <th>recommend_to_a_friend</th>\n",
              "      <th>review_text</th>\n",
              "      <th>reviewer_birth_year</th>\n",
              "      <th>reviewer_gender</th>\n",
              "      <th>reviewer_state</th>\n",
              "    </tr>\n",
              "  </thead>\n",
              "  <tbody>\n",
              "    <tr>\n",
              "      <th>0</th>\n",
              "      <td>2018-01-01 00:11:28</td>\n",
              "      <td>d0fb1ca69422530334178f5c8624aa7a99da47907c44de...</td>\n",
              "      <td>132532965</td>\n",
              "      <td>Notebook Asus Vivobook Max X541NA-GO472T Intel...</td>\n",
              "      <td>NaN</td>\n",
              "      <td>Informática</td>\n",
              "      <td>Notebook</td>\n",
              "      <td>Bom</td>\n",
              "      <td>4</td>\n",
              "      <td>Yes</td>\n",
              "      <td>Estou contente com a compra entrega rápida o ú...</td>\n",
              "      <td>1958.0</td>\n",
              "      <td>F</td>\n",
              "      <td>RJ</td>\n",
              "    </tr>\n",
              "    <tr>\n",
              "      <th>1</th>\n",
              "      <td>2018-01-01 00:13:48</td>\n",
              "      <td>014d6dc5a10aed1ff1e6f349fb2b059a2d3de511c7538a...</td>\n",
              "      <td>22562178</td>\n",
              "      <td>Copo Acrílico Com Canudo 500ml Rocie</td>\n",
              "      <td>NaN</td>\n",
              "      <td>Utilidades Domésticas</td>\n",
              "      <td>Copos, Taças e Canecas</td>\n",
              "      <td>Preço imbatível, ótima qualidade</td>\n",
              "      <td>4</td>\n",
              "      <td>Yes</td>\n",
              "      <td>Por apenas R$1994.20,eu consegui comprar esse ...</td>\n",
              "      <td>1996.0</td>\n",
              "      <td>M</td>\n",
              "      <td>SC</td>\n",
              "    </tr>\n",
              "    <tr>\n",
              "      <th>2</th>\n",
              "      <td>2018-01-01 00:26:02</td>\n",
              "      <td>44f2c8edd93471926fff601274b8b2b5c4824e386ae4f2...</td>\n",
              "      <td>113022329</td>\n",
              "      <td>Panela de Pressão Elétrica Philips Walita Dail...</td>\n",
              "      <td>philips walita</td>\n",
              "      <td>Eletroportáteis</td>\n",
              "      <td>Panela Elétrica</td>\n",
              "      <td>ATENDE TODAS AS EXPECTATIVA.</td>\n",
              "      <td>4</td>\n",
              "      <td>Yes</td>\n",
              "      <td>SUPERA EM AGILIDADE E PRATICIDADE OUTRAS PANEL...</td>\n",
              "      <td>1984.0</td>\n",
              "      <td>M</td>\n",
              "      <td>SP</td>\n",
              "    </tr>\n",
              "    <tr>\n",
              "      <th>3</th>\n",
              "      <td>2018-01-01 00:35:54</td>\n",
              "      <td>ce741665c1764ab2d77539e18d0e4f66dde6213c9f0863...</td>\n",
              "      <td>113851581</td>\n",
              "      <td>Betoneira Columbus - Roma Brinquedos</td>\n",
              "      <td>roma jensen</td>\n",
              "      <td>Brinquedos</td>\n",
              "      <td>Veículos de Brinquedo</td>\n",
              "      <td>presente mais que desejado</td>\n",
              "      <td>4</td>\n",
              "      <td>Yes</td>\n",
              "      <td>MEU FILHO AMOU! PARECE DE VERDADE COM TANTOS D...</td>\n",
              "      <td>1985.0</td>\n",
              "      <td>F</td>\n",
              "      <td>SP</td>\n",
              "    </tr>\n",
              "    <tr>\n",
              "      <th>4</th>\n",
              "      <td>2018-01-01 01:00:28</td>\n",
              "      <td>7d7b6b18dda804a897359276cef0ca252f9932bf4b5c8e...</td>\n",
              "      <td>131788803</td>\n",
              "      <td>Smart TV LED 43\" LG 43UJ6525 Ultra HD 4K com C...</td>\n",
              "      <td>lg</td>\n",
              "      <td>TV e Home Theater</td>\n",
              "      <td>TV</td>\n",
              "      <td>Sem duvidas, excelente</td>\n",
              "      <td>5</td>\n",
              "      <td>Yes</td>\n",
              "      <td>A entrega foi no prazo, as americanas estão de...</td>\n",
              "      <td>1994.0</td>\n",
              "      <td>M</td>\n",
              "      <td>MG</td>\n",
              "    </tr>\n",
              "    <tr>\n",
              "      <th>...</th>\n",
              "      <td>...</td>\n",
              "      <td>...</td>\n",
              "      <td>...</td>\n",
              "      <td>...</td>\n",
              "      <td>...</td>\n",
              "      <td>...</td>\n",
              "      <td>...</td>\n",
              "      <td>...</td>\n",
              "      <td>...</td>\n",
              "      <td>...</td>\n",
              "      <td>...</td>\n",
              "      <td>...</td>\n",
              "      <td>...</td>\n",
              "      <td>...</td>\n",
              "    </tr>\n",
              "    <tr>\n",
              "      <th>132368</th>\n",
              "      <td>2018-05-31 23:30:50</td>\n",
              "      <td>15f20e95ff44163f3175aaf67a5ae4a94d5030b409e521...</td>\n",
              "      <td>17962233</td>\n",
              "      <td>Carregador De Pilha Sony + 4 Pilhas Aa 2500mah</td>\n",
              "      <td>NaN</td>\n",
              "      <td>Câmeras e Filmadoras</td>\n",
              "      <td>Acessórios para Câmeras e Filmadoras</td>\n",
              "      <td>Ótimo produto!</td>\n",
              "      <td>5</td>\n",
              "      <td>Yes</td>\n",
              "      <td>Vale muito, estou usando no controle do Xbox e...</td>\n",
              "      <td>1988.0</td>\n",
              "      <td>M</td>\n",
              "      <td>RS</td>\n",
              "    </tr>\n",
              "    <tr>\n",
              "      <th>132369</th>\n",
              "      <td>2018-05-31 23:42:25</td>\n",
              "      <td>def7cf9028b0673ab8bca3b1d06e085461fafb88cd48d9...</td>\n",
              "      <td>132631701</td>\n",
              "      <td>Mop Giratório Fit + Refil Extra - At Home</td>\n",
              "      <td>NaN</td>\n",
              "      <td>Utilidades Domésticas</td>\n",
              "      <td>Material de Limpeza</td>\n",
              "      <td>Sensacional</td>\n",
              "      <td>5</td>\n",
              "      <td>Yes</td>\n",
              "      <td>Prático e barato, super indico o produto para ...</td>\n",
              "      <td>1979.0</td>\n",
              "      <td>F</td>\n",
              "      <td>SP</td>\n",
              "    </tr>\n",
              "    <tr>\n",
              "      <th>132370</th>\n",
              "      <td>2018-05-31 23:44:16</td>\n",
              "      <td>7bcbf542f5d7dd9a9a192a6805adba7a7a4c1ce3bf00df...</td>\n",
              "      <td>16095859</td>\n",
              "      <td>Fita Led 5m Rgb 3528 Siliconada Com 300 Leds C...</td>\n",
              "      <td>NaN</td>\n",
              "      <td>Automotivo</td>\n",
              "      <td>Iluminação</td>\n",
              "      <td>Ótimo produto</td>\n",
              "      <td>4</td>\n",
              "      <td>Yes</td>\n",
              "      <td>Chegou antes do prazo previsto e corresponde a...</td>\n",
              "      <td>1979.0</td>\n",
              "      <td>F</td>\n",
              "      <td>PR</td>\n",
              "    </tr>\n",
              "    <tr>\n",
              "      <th>132371</th>\n",
              "      <td>2018-05-31 23:46:48</td>\n",
              "      <td>e6fb0b19277d01c2a300c7837a105f3c369377e92f9c19...</td>\n",
              "      <td>6774907</td>\n",
              "      <td>Etiquetas Jurídicas Vade Mecum - Marca Fácil</td>\n",
              "      <td>marca facil</td>\n",
              "      <td>Papelaria</td>\n",
              "      <td>Material de Escritório</td>\n",
              "      <td>O produto não é bom.</td>\n",
              "      <td>1</td>\n",
              "      <td>No</td>\n",
              "      <td>Material fraco, poderia ser melhor. Ficou deve...</td>\n",
              "      <td>1991.0</td>\n",
              "      <td>M</td>\n",
              "      <td>RJ</td>\n",
              "    </tr>\n",
              "    <tr>\n",
              "      <th>132372</th>\n",
              "      <td>2018-05-31 23:50:33</td>\n",
              "      <td>ea9467aa73271fb4f68c04f4dd4f4eef304d6ee85441fb...</td>\n",
              "      <td>114081902</td>\n",
              "      <td>Painel de Fotos Bee Colection Rue Bac (74x94x3...</td>\n",
              "      <td>kapos</td>\n",
              "      <td>Decoração</td>\n",
              "      <td>Painel de Fotos</td>\n",
              "      <td>Produto não entregue</td>\n",
              "      <td>1</td>\n",
              "      <td>No</td>\n",
              "      <td>Comprei esse produto, quando chegou estava com...</td>\n",
              "      <td>1982.0</td>\n",
              "      <td>F</td>\n",
              "      <td>ES</td>\n",
              "    </tr>\n",
              "  </tbody>\n",
              "</table>\n",
              "<p>132373 rows × 14 columns</p>\n",
              "</div>\n",
              "    <div class=\"colab-df-buttons\">\n",
              "\n",
              "  <div class=\"colab-df-container\">\n",
              "    <button class=\"colab-df-convert\" onclick=\"convertToInteractive('df-c823f720-4b74-4e16-8da7-7e55b1c49c54')\"\n",
              "            title=\"Convert this dataframe to an interactive table.\"\n",
              "            style=\"display:none;\">\n",
              "\n",
              "  <svg xmlns=\"http://www.w3.org/2000/svg\" height=\"24px\" viewBox=\"0 -960 960 960\">\n",
              "    <path d=\"M120-120v-720h720v720H120Zm60-500h600v-160H180v160Zm220 220h160v-160H400v160Zm0 220h160v-160H400v160ZM180-400h160v-160H180v160Zm440 0h160v-160H620v160ZM180-180h160v-160H180v160Zm440 0h160v-160H620v160Z\"/>\n",
              "  </svg>\n",
              "    </button>\n",
              "\n",
              "  <style>\n",
              "    .colab-df-container {\n",
              "      display:flex;\n",
              "      gap: 12px;\n",
              "    }\n",
              "\n",
              "    .colab-df-convert {\n",
              "      background-color: #E8F0FE;\n",
              "      border: none;\n",
              "      border-radius: 50%;\n",
              "      cursor: pointer;\n",
              "      display: none;\n",
              "      fill: #1967D2;\n",
              "      height: 32px;\n",
              "      padding: 0 0 0 0;\n",
              "      width: 32px;\n",
              "    }\n",
              "\n",
              "    .colab-df-convert:hover {\n",
              "      background-color: #E2EBFA;\n",
              "      box-shadow: 0px 1px 2px rgba(60, 64, 67, 0.3), 0px 1px 3px 1px rgba(60, 64, 67, 0.15);\n",
              "      fill: #174EA6;\n",
              "    }\n",
              "\n",
              "    .colab-df-buttons div {\n",
              "      margin-bottom: 4px;\n",
              "    }\n",
              "\n",
              "    [theme=dark] .colab-df-convert {\n",
              "      background-color: #3B4455;\n",
              "      fill: #D2E3FC;\n",
              "    }\n",
              "\n",
              "    [theme=dark] .colab-df-convert:hover {\n",
              "      background-color: #434B5C;\n",
              "      box-shadow: 0px 1px 3px 1px rgba(0, 0, 0, 0.15);\n",
              "      filter: drop-shadow(0px 1px 2px rgba(0, 0, 0, 0.3));\n",
              "      fill: #FFFFFF;\n",
              "    }\n",
              "  </style>\n",
              "\n",
              "    <script>\n",
              "      const buttonEl =\n",
              "        document.querySelector('#df-c823f720-4b74-4e16-8da7-7e55b1c49c54 button.colab-df-convert');\n",
              "      buttonEl.style.display =\n",
              "        google.colab.kernel.accessAllowed ? 'block' : 'none';\n",
              "\n",
              "      async function convertToInteractive(key) {\n",
              "        const element = document.querySelector('#df-c823f720-4b74-4e16-8da7-7e55b1c49c54');\n",
              "        const dataTable =\n",
              "          await google.colab.kernel.invokeFunction('convertToInteractive',\n",
              "                                                    [key], {});\n",
              "        if (!dataTable) return;\n",
              "\n",
              "        const docLinkHtml = 'Like what you see? Visit the ' +\n",
              "          '<a target=\"_blank\" href=https://colab.research.google.com/notebooks/data_table.ipynb>data table notebook</a>'\n",
              "          + ' to learn more about interactive tables.';\n",
              "        element.innerHTML = '';\n",
              "        dataTable['output_type'] = 'display_data';\n",
              "        await google.colab.output.renderOutput(dataTable, element);\n",
              "        const docLink = document.createElement('div');\n",
              "        docLink.innerHTML = docLinkHtml;\n",
              "        element.appendChild(docLink);\n",
              "      }\n",
              "    </script>\n",
              "  </div>\n",
              "\n",
              "\n",
              "<div id=\"df-a94b12bc-cff7-42e0-a6d9-67ffcd9835d3\">\n",
              "  <button class=\"colab-df-quickchart\" onclick=\"quickchart('df-a94b12bc-cff7-42e0-a6d9-67ffcd9835d3')\"\n",
              "            title=\"Suggest charts\"\n",
              "            style=\"display:none;\">\n",
              "\n",
              "<svg xmlns=\"http://www.w3.org/2000/svg\" height=\"24px\"viewBox=\"0 0 24 24\"\n",
              "     width=\"24px\">\n",
              "    <g>\n",
              "        <path d=\"M19 3H5c-1.1 0-2 .9-2 2v14c0 1.1.9 2 2 2h14c1.1 0 2-.9 2-2V5c0-1.1-.9-2-2-2zM9 17H7v-7h2v7zm4 0h-2V7h2v10zm4 0h-2v-4h2v4z\"/>\n",
              "    </g>\n",
              "</svg>\n",
              "  </button>\n",
              "\n",
              "<style>\n",
              "  .colab-df-quickchart {\n",
              "      --bg-color: #E8F0FE;\n",
              "      --fill-color: #1967D2;\n",
              "      --hover-bg-color: #E2EBFA;\n",
              "      --hover-fill-color: #174EA6;\n",
              "      --disabled-fill-color: #AAA;\n",
              "      --disabled-bg-color: #DDD;\n",
              "  }\n",
              "\n",
              "  [theme=dark] .colab-df-quickchart {\n",
              "      --bg-color: #3B4455;\n",
              "      --fill-color: #D2E3FC;\n",
              "      --hover-bg-color: #434B5C;\n",
              "      --hover-fill-color: #FFFFFF;\n",
              "      --disabled-bg-color: #3B4455;\n",
              "      --disabled-fill-color: #666;\n",
              "  }\n",
              "\n",
              "  .colab-df-quickchart {\n",
              "    background-color: var(--bg-color);\n",
              "    border: none;\n",
              "    border-radius: 50%;\n",
              "    cursor: pointer;\n",
              "    display: none;\n",
              "    fill: var(--fill-color);\n",
              "    height: 32px;\n",
              "    padding: 0;\n",
              "    width: 32px;\n",
              "  }\n",
              "\n",
              "  .colab-df-quickchart:hover {\n",
              "    background-color: var(--hover-bg-color);\n",
              "    box-shadow: 0 1px 2px rgba(60, 64, 67, 0.3), 0 1px 3px 1px rgba(60, 64, 67, 0.15);\n",
              "    fill: var(--button-hover-fill-color);\n",
              "  }\n",
              "\n",
              "  .colab-df-quickchart-complete:disabled,\n",
              "  .colab-df-quickchart-complete:disabled:hover {\n",
              "    background-color: var(--disabled-bg-color);\n",
              "    fill: var(--disabled-fill-color);\n",
              "    box-shadow: none;\n",
              "  }\n",
              "\n",
              "  .colab-df-spinner {\n",
              "    border: 2px solid var(--fill-color);\n",
              "    border-color: transparent;\n",
              "    border-bottom-color: var(--fill-color);\n",
              "    animation:\n",
              "      spin 1s steps(1) infinite;\n",
              "  }\n",
              "\n",
              "  @keyframes spin {\n",
              "    0% {\n",
              "      border-color: transparent;\n",
              "      border-bottom-color: var(--fill-color);\n",
              "      border-left-color: var(--fill-color);\n",
              "    }\n",
              "    20% {\n",
              "      border-color: transparent;\n",
              "      border-left-color: var(--fill-color);\n",
              "      border-top-color: var(--fill-color);\n",
              "    }\n",
              "    30% {\n",
              "      border-color: transparent;\n",
              "      border-left-color: var(--fill-color);\n",
              "      border-top-color: var(--fill-color);\n",
              "      border-right-color: var(--fill-color);\n",
              "    }\n",
              "    40% {\n",
              "      border-color: transparent;\n",
              "      border-right-color: var(--fill-color);\n",
              "      border-top-color: var(--fill-color);\n",
              "    }\n",
              "    60% {\n",
              "      border-color: transparent;\n",
              "      border-right-color: var(--fill-color);\n",
              "    }\n",
              "    80% {\n",
              "      border-color: transparent;\n",
              "      border-right-color: var(--fill-color);\n",
              "      border-bottom-color: var(--fill-color);\n",
              "    }\n",
              "    90% {\n",
              "      border-color: transparent;\n",
              "      border-bottom-color: var(--fill-color);\n",
              "    }\n",
              "  }\n",
              "</style>\n",
              "\n",
              "  <script>\n",
              "    async function quickchart(key) {\n",
              "      const quickchartButtonEl =\n",
              "        document.querySelector('#' + key + ' button');\n",
              "      quickchartButtonEl.disabled = true;  // To prevent multiple clicks.\n",
              "      quickchartButtonEl.classList.add('colab-df-spinner');\n",
              "      try {\n",
              "        const charts = await google.colab.kernel.invokeFunction(\n",
              "            'suggestCharts', [key], {});\n",
              "      } catch (error) {\n",
              "        console.error('Error during call to suggestCharts:', error);\n",
              "      }\n",
              "      quickchartButtonEl.classList.remove('colab-df-spinner');\n",
              "      quickchartButtonEl.classList.add('colab-df-quickchart-complete');\n",
              "    }\n",
              "    (() => {\n",
              "      let quickchartButtonEl =\n",
              "        document.querySelector('#df-a94b12bc-cff7-42e0-a6d9-67ffcd9835d3 button');\n",
              "      quickchartButtonEl.style.display =\n",
              "        google.colab.kernel.accessAllowed ? 'block' : 'none';\n",
              "    })();\n",
              "  </script>\n",
              "</div>\n",
              "\n",
              "  <div id=\"id_8e7979b5-24aa-48fd-9e30-dbcdcf8a3a3f\">\n",
              "    <style>\n",
              "      .colab-df-generate {\n",
              "        background-color: #E8F0FE;\n",
              "        border: none;\n",
              "        border-radius: 50%;\n",
              "        cursor: pointer;\n",
              "        display: none;\n",
              "        fill: #1967D2;\n",
              "        height: 32px;\n",
              "        padding: 0 0 0 0;\n",
              "        width: 32px;\n",
              "      }\n",
              "\n",
              "      .colab-df-generate:hover {\n",
              "        background-color: #E2EBFA;\n",
              "        box-shadow: 0px 1px 2px rgba(60, 64, 67, 0.3), 0px 1px 3px 1px rgba(60, 64, 67, 0.15);\n",
              "        fill: #174EA6;\n",
              "      }\n",
              "\n",
              "      [theme=dark] .colab-df-generate {\n",
              "        background-color: #3B4455;\n",
              "        fill: #D2E3FC;\n",
              "      }\n",
              "\n",
              "      [theme=dark] .colab-df-generate:hover {\n",
              "        background-color: #434B5C;\n",
              "        box-shadow: 0px 1px 3px 1px rgba(0, 0, 0, 0.15);\n",
              "        filter: drop-shadow(0px 1px 2px rgba(0, 0, 0, 0.3));\n",
              "        fill: #FFFFFF;\n",
              "      }\n",
              "    </style>\n",
              "    <button class=\"colab-df-generate\" onclick=\"generateWithVariable('df')\"\n",
              "            title=\"Generate code using this dataframe.\"\n",
              "            style=\"display:none;\">\n",
              "\n",
              "  <svg xmlns=\"http://www.w3.org/2000/svg\" height=\"24px\"viewBox=\"0 0 24 24\"\n",
              "       width=\"24px\">\n",
              "    <path d=\"M7,19H8.4L18.45,9,17,7.55,7,17.6ZM5,21V16.75L18.45,3.32a2,2,0,0,1,2.83,0l1.4,1.43a1.91,1.91,0,0,1,.58,1.4,1.91,1.91,0,0,1-.58,1.4L9.25,21ZM18.45,9,17,7.55Zm-12,3A5.31,5.31,0,0,0,4.9,8.1,5.31,5.31,0,0,0,1,6.5,5.31,5.31,0,0,0,4.9,4.9,5.31,5.31,0,0,0,6.5,1,5.31,5.31,0,0,0,8.1,4.9,5.31,5.31,0,0,0,12,6.5,5.46,5.46,0,0,0,6.5,12Z\"/>\n",
              "  </svg>\n",
              "    </button>\n",
              "    <script>\n",
              "      (() => {\n",
              "      const buttonEl =\n",
              "        document.querySelector('#id_8e7979b5-24aa-48fd-9e30-dbcdcf8a3a3f button.colab-df-generate');\n",
              "      buttonEl.style.display =\n",
              "        google.colab.kernel.accessAllowed ? 'block' : 'none';\n",
              "\n",
              "      buttonEl.onclick = () => {\n",
              "        google.colab.notebook.generateWithVariable('df');\n",
              "      }\n",
              "      })();\n",
              "    </script>\n",
              "  </div>\n",
              "\n",
              "    </div>\n",
              "  </div>\n"
            ],
            "text/plain": [
              "            submission_date  \\\n",
              "0       2018-01-01 00:11:28   \n",
              "1       2018-01-01 00:13:48   \n",
              "2       2018-01-01 00:26:02   \n",
              "3       2018-01-01 00:35:54   \n",
              "4       2018-01-01 01:00:28   \n",
              "...                     ...   \n",
              "132368  2018-05-31 23:30:50   \n",
              "132369  2018-05-31 23:42:25   \n",
              "132370  2018-05-31 23:44:16   \n",
              "132371  2018-05-31 23:46:48   \n",
              "132372  2018-05-31 23:50:33   \n",
              "\n",
              "                                              reviewer_id product_id  \\\n",
              "0       d0fb1ca69422530334178f5c8624aa7a99da47907c44de...  132532965   \n",
              "1       014d6dc5a10aed1ff1e6f349fb2b059a2d3de511c7538a...   22562178   \n",
              "2       44f2c8edd93471926fff601274b8b2b5c4824e386ae4f2...  113022329   \n",
              "3       ce741665c1764ab2d77539e18d0e4f66dde6213c9f0863...  113851581   \n",
              "4       7d7b6b18dda804a897359276cef0ca252f9932bf4b5c8e...  131788803   \n",
              "...                                                   ...        ...   \n",
              "132368  15f20e95ff44163f3175aaf67a5ae4a94d5030b409e521...   17962233   \n",
              "132369  def7cf9028b0673ab8bca3b1d06e085461fafb88cd48d9...  132631701   \n",
              "132370  7bcbf542f5d7dd9a9a192a6805adba7a7a4c1ce3bf00df...   16095859   \n",
              "132371  e6fb0b19277d01c2a300c7837a105f3c369377e92f9c19...    6774907   \n",
              "132372  ea9467aa73271fb4f68c04f4dd4f4eef304d6ee85441fb...  114081902   \n",
              "\n",
              "                                             product_name   product_brand  \\\n",
              "0       Notebook Asus Vivobook Max X541NA-GO472T Intel...             NaN   \n",
              "1                    Copo Acrílico Com Canudo 500ml Rocie             NaN   \n",
              "2       Panela de Pressão Elétrica Philips Walita Dail...  philips walita   \n",
              "3                    Betoneira Columbus - Roma Brinquedos     roma jensen   \n",
              "4       Smart TV LED 43\" LG 43UJ6525 Ultra HD 4K com C...              lg   \n",
              "...                                                   ...             ...   \n",
              "132368     Carregador De Pilha Sony + 4 Pilhas Aa 2500mah             NaN   \n",
              "132369          Mop Giratório Fit + Refil Extra - At Home             NaN   \n",
              "132370  Fita Led 5m Rgb 3528 Siliconada Com 300 Leds C...             NaN   \n",
              "132371       Etiquetas Jurídicas Vade Mecum - Marca Fácil     marca facil   \n",
              "132372  Painel de Fotos Bee Colection Rue Bac (74x94x3...           kapos   \n",
              "\n",
              "            site_category_lv1                     site_category_lv2  \\\n",
              "0                 Informática                              Notebook   \n",
              "1       Utilidades Domésticas                Copos, Taças e Canecas   \n",
              "2             Eletroportáteis                       Panela Elétrica   \n",
              "3                  Brinquedos                 Veículos de Brinquedo   \n",
              "4           TV e Home Theater                                    TV   \n",
              "...                       ...                                   ...   \n",
              "132368   Câmeras e Filmadoras  Acessórios para Câmeras e Filmadoras   \n",
              "132369  Utilidades Domésticas                   Material de Limpeza   \n",
              "132370             Automotivo                            Iluminação   \n",
              "132371              Papelaria                Material de Escritório   \n",
              "132372              Decoração                       Painel de Fotos   \n",
              "\n",
              "                            review_title  overall_rating  \\\n",
              "0                                    Bom               4   \n",
              "1       Preço imbatível, ótima qualidade               4   \n",
              "2           ATENDE TODAS AS EXPECTATIVA.               4   \n",
              "3             presente mais que desejado               4   \n",
              "4                 Sem duvidas, excelente               5   \n",
              "...                                  ...             ...   \n",
              "132368                    Ótimo produto!               5   \n",
              "132369                       Sensacional               5   \n",
              "132370                     Ótimo produto               4   \n",
              "132371              O produto não é bom.               1   \n",
              "132372              Produto não entregue               1   \n",
              "\n",
              "       recommend_to_a_friend  \\\n",
              "0                        Yes   \n",
              "1                        Yes   \n",
              "2                        Yes   \n",
              "3                        Yes   \n",
              "4                        Yes   \n",
              "...                      ...   \n",
              "132368                   Yes   \n",
              "132369                   Yes   \n",
              "132370                   Yes   \n",
              "132371                    No   \n",
              "132372                    No   \n",
              "\n",
              "                                              review_text  \\\n",
              "0       Estou contente com a compra entrega rápida o ú...   \n",
              "1       Por apenas R$1994.20,eu consegui comprar esse ...   \n",
              "2       SUPERA EM AGILIDADE E PRATICIDADE OUTRAS PANEL...   \n",
              "3       MEU FILHO AMOU! PARECE DE VERDADE COM TANTOS D...   \n",
              "4       A entrega foi no prazo, as americanas estão de...   \n",
              "...                                                   ...   \n",
              "132368  Vale muito, estou usando no controle do Xbox e...   \n",
              "132369  Prático e barato, super indico o produto para ...   \n",
              "132370  Chegou antes do prazo previsto e corresponde a...   \n",
              "132371  Material fraco, poderia ser melhor. Ficou deve...   \n",
              "132372  Comprei esse produto, quando chegou estava com...   \n",
              "\n",
              "        reviewer_birth_year reviewer_gender reviewer_state  \n",
              "0                    1958.0               F             RJ  \n",
              "1                    1996.0               M             SC  \n",
              "2                    1984.0               M             SP  \n",
              "3                    1985.0               F             SP  \n",
              "4                    1994.0               M             MG  \n",
              "...                     ...             ...            ...  \n",
              "132368               1988.0               M             RS  \n",
              "132369               1979.0               F             SP  \n",
              "132370               1979.0               F             PR  \n",
              "132371               1991.0               M             RJ  \n",
              "132372               1982.0               F             ES  \n",
              "\n",
              "[132373 rows x 14 columns]"
            ]
          },
          "execution_count": 158,
          "metadata": {},
          "output_type": "execute_result"
        }
      ],
      "source": [
        "import pandas as pd\n",
        "df = pd.read_csv('B2W-Reviews01.csv')\n",
        "df"
      ]
    },
    {
      "cell_type": "code",
      "execution_count": 159,
      "metadata": {
        "id": "TVk5tZTqYgMR"
      },
      "outputs": [],
      "source": [
        "df.dropna(subset=['review_text'], inplace=True)\n",
        "df['label'] = df['overall_rating'].apply(lambda x: 0 if x <= 3 else 1)"
      ]
    },
    {
      "cell_type": "code",
      "execution_count": 160,
      "metadata": {
        "id": "R_Ga_xvOTzNp"
      },
      "outputs": [],
      "source": [
        "def add_negative_prefix(text):\n",
        "    neg_words = ['não', 'nem', 'nunca', 'jamais', 'tampouco']\n",
        "    pontuation = ['.', ',', '!', '?',';']\n",
        "    tokens = re.split(r'(\\s+|\\W+)', text)\n",
        "    negation = False\n",
        "    result = []\n",
        "    for token in tokens:\n",
        "        if token.strip() in neg_words:\n",
        "            negation = True\n",
        "            result.append(token)\n",
        "        elif re.match(r'[\\s\\W]', token):\n",
        "            negation = False if token.strip() in pontuation else negation\n",
        "            result.append(token)\n",
        "        elif negation:\n",
        "            result.append('NAO_' + token)\n",
        "        else:\n",
        "            result.append(token)\n",
        "    return ''.join(result)"
      ]
    },
    {
      "cell_type": "code",
      "execution_count": 161,
      "metadata": {
        "id": "FedRhQ_XT6cp"
      },
      "outputs": [],
      "source": [
        "X = df['review_text']\n",
        "y = df['label']\n",
        "\n",
        "X = X.str.lower()\n",
        "X_neg = X.apply(add_negative_prefix)\n",
        "df['X_neg'] = X_neg\n"
      ]
    },
    {
      "cell_type": "code",
      "execution_count": 162,
      "metadata": {
        "colab": {
          "base_uri": "https://localhost:8080/",
          "height": 53
        },
        "id": "XuEMr8dlaBPy",
        "outputId": "1cbcb18e-be74-4b3d-8573-173a49e5eb26"
      },
      "outputs": [
        {
          "data": {
            "application/vnd.google.colaboratory.intrinsic+json": {
              "type": "string"
            },
            "text/plain": [
              "'Produto maravilhoso! Não é barulhento, fácil manuseio, tranquilo de montar e desmontar, entrega antes do prazo mesmo se tratando de época do Natal. Americanas de parabéns e o produto muito bom. Recomendo com força.'"
            ]
          },
          "execution_count": 162,
          "metadata": {},
          "output_type": "execute_result"
        }
      ],
      "source": [
        "#vendo alguns exemplos, se funcionou\n",
        "df['review_text'].iloc[11]"
      ]
    },
    {
      "cell_type": "code",
      "execution_count": 163,
      "metadata": {
        "colab": {
          "base_uri": "https://localhost:8080/",
          "height": 53
        },
        "id": "PrfDG1PEaBEX",
        "outputId": "5d7e10ee-80f1-419d-8d25-48f9a4880665"
      },
      "outputs": [
        {
          "data": {
            "application/vnd.google.colaboratory.intrinsic+json": {
              "type": "string"
            },
            "text/plain": [
              "'produto maravilhoso! não NAO_é NAO_barulhento, fácil manuseio, tranquilo de montar e desmontar, entrega antes do prazo mesmo se tratando de época do natal. americanas de parabéns e o produto muito bom. recomendo com força.'"
            ]
          },
          "execution_count": 163,
          "metadata": {},
          "output_type": "execute_result"
        }
      ],
      "source": [
        "df['X_neg'].iloc[11]"
      ]
    },
    {
      "cell_type": "code",
      "execution_count": 164,
      "metadata": {
        "colab": {
          "base_uri": "https://localhost:8080/",
          "height": 53
        },
        "id": "3SnGmVnFZzNI",
        "outputId": "4dc45ece-8356-46d5-d820-34e5ba97f769"
      },
      "outputs": [
        {
          "data": {
            "application/vnd.google.colaboratory.intrinsic+json": {
              "type": "string"
            },
            "text/plain": [
              "'Esse celular não vale nada a bateria não vale nada descarrega sozinha quando estar usando esquenta tanto que faz medo espludi foi a pior compra da minha vida se eu tivesse condições quebrava ele em mil pedaços e comprava outro de qualquer marca menos Motorola'"
            ]
          },
          "execution_count": 164,
          "metadata": {},
          "output_type": "execute_result"
        }
      ],
      "source": [
        "df['review_text'].iloc[13]"
      ]
    },
    {
      "cell_type": "code",
      "execution_count": 165,
      "metadata": {
        "colab": {
          "base_uri": "https://localhost:8080/",
          "height": 71
        },
        "id": "P7xLs_s0Wg2q",
        "outputId": "22d8e48b-fda3-4b13-da2d-09e02ce89ad8"
      },
      "outputs": [
        {
          "data": {
            "application/vnd.google.colaboratory.intrinsic+json": {
              "type": "string"
            },
            "text/plain": [
              "'esse celular não NAO_vale NAO_nada NAO_a NAO_bateria não NAO_vale NAO_nada NAO_descarrega NAO_sozinha NAO_quando NAO_estar NAO_usando NAO_esquenta NAO_tanto NAO_que NAO_faz NAO_medo NAO_espludi NAO_foi NAO_a NAO_pior NAO_compra NAO_da NAO_minha NAO_vida NAO_se NAO_eu NAO_tivesse NAO_condições NAO_quebrava NAO_ele NAO_em NAO_mil NAO_pedaços NAO_e NAO_comprava NAO_outro NAO_de NAO_qualquer NAO_marca NAO_menos NAO_motorola'"
            ]
          },
          "execution_count": 165,
          "metadata": {},
          "output_type": "execute_result"
        }
      ],
      "source": [
        "df['X_neg'].iloc[13]"
      ]
    },
    {
      "cell_type": "code",
      "execution_count": 166,
      "metadata": {
        "id": "HOBQL-svUKHn"
      },
      "outputs": [],
      "source": [
        "\n",
        "# Dividir os dados em treino e teste\n",
        "X_train, X_test, y_train, y_test = train_test_split(X, y, test_size=0.2)\n",
        "X_train_neg, X_test_neg, y_train_neg, y_test_neg = train_test_split(X_neg, y, test_size=0.2)\n"
      ]
    },
    {
      "cell_type": "code",
      "execution_count": 167,
      "metadata": {
        "colab": {
          "base_uri": "https://localhost:8080/"
        },
        "id": "4oa3M-Kzam2B",
        "outputId": "e2217a63-27ee-4966-ab6b-e4552bee127f"
      },
      "outputs": [
        {
          "data": {
            "text/plain": [
              "((103278,), (103278,))"
            ]
          },
          "execution_count": 167,
          "metadata": {},
          "output_type": "execute_result"
        }
      ],
      "source": [
        "X_train.shape, y_train.shape"
      ]
    },
    {
      "cell_type": "code",
      "execution_count": 168,
      "metadata": {
        "colab": {
          "base_uri": "https://localhost:8080/"
        },
        "id": "mT1sfRu6apCe",
        "outputId": "4b4f7bcd-8083-4abe-940d-b556378d216e"
      },
      "outputs": [
        {
          "data": {
            "text/plain": [
              "((103278,), (25820,))"
            ]
          },
          "execution_count": 168,
          "metadata": {},
          "output_type": "execute_result"
        }
      ],
      "source": [
        "X_train_neg.shape, X_test_neg.shape"
      ]
    },
    {
      "cell_type": "markdown",
      "metadata": {
        "id": "A0qxFIbPcxjv"
      },
      "source": [
        "## Treino SEM prefixo negativo:"
      ]
    },
    {
      "cell_type": "code",
      "execution_count": 169,
      "metadata": {
        "colab": {
          "base_uri": "https://localhost:8080/"
        },
        "id": "b1UQG7IBbqjp",
        "outputId": "29e24902-0409-486d-a94a-ed321ade147f"
      },
      "outputs": [
        {
          "data": {
            "text/plain": [
              "0.8545313710302092"
            ]
          },
          "execution_count": 169,
          "metadata": {},
          "output_type": "execute_result"
        }
      ],
      "source": [
        "vectorizer = TfidfVectorizer()\n",
        "X_train_vec = vectorizer.fit_transform(X_train)\n",
        "model = MultinomialNB()\n",
        "model.fit(X_train_vec, y_train)\n",
        "X_test_vec = vectorizer.transform(X_test)\n",
        "result = model.predict(X_test_vec)\n",
        "accuracy_score(y_test, result)"
      ]
    },
    {
      "cell_type": "markdown",
      "metadata": {
        "id": "aivL51WLc5RA"
      },
      "source": [
        "## Treino COM prefixo negativo:"
      ]
    },
    {
      "cell_type": "code",
      "execution_count": 170,
      "metadata": {
        "colab": {
          "base_uri": "https://localhost:8080/"
        },
        "id": "L08Jw6NJcLrZ",
        "outputId": "31c63f2b-5562-43f9-fe53-7620cc80daed"
      },
      "outputs": [
        {
          "data": {
            "text/plain": [
              "0.8540278853601859"
            ]
          },
          "execution_count": 170,
          "metadata": {},
          "output_type": "execute_result"
        }
      ],
      "source": [
        "vectorizerNEG= TfidfVectorizer()\n",
        "X_train_neg_vec = vectorizerNEG.fit_transform(X_train_neg)\n",
        "model = MultinomialNB()\n",
        "model.fit(X_train_neg_vec, y_train_neg)\n",
        "X_test_neg_vec = vectorizerNEG.transform(X_test_neg)\n",
        "result = model.predict(X_test_neg_vec)\n",
        "accuracy_score(y_test_neg, result)"
      ]
    },
    {
      "cell_type": "markdown",
      "metadata": {
        "id": "71ZJTWQwds1e"
      },
      "source": [
        "### Não me parece ter havido uma melhoria significativa na acurácia ao incluir o prefixo NEGATIVO."
      ]
    }
  ],
  "metadata": {
    "colab": {
      "provenance": []
    },
    "kernelspec": {
      "display_name": "Python 3",
      "name": "python3"
    },
    "language_info": {
      "name": "python"
    }
  },
  "nbformat": 4,
  "nbformat_minor": 0
}
