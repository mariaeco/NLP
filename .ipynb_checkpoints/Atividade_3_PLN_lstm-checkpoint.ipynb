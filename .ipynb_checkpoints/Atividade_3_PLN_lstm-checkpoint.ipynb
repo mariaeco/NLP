{
 "cells": [
  {
   "cell_type": "markdown",
   "id": "595e0394-3037-47e8-ad9e-210ea3a6048d",
   "metadata": {},
   "source": [
    "\n",
    "# **NOME**: MARIA MARCOLINA LIMA CARDOSO\n",
    "\n",
    "## **MATRÍCULA**: 2023002133"
   ]
  },
  {
   "cell_type": "markdown",
   "id": "e652e686-b5af-4561-8f54-399d6c7ef2a7",
   "metadata": {},
   "source": [
    "### **Descrição**\n",
    "Este exercício tem por objetivo treinar uma rede neural \n",
    "deste exercício é treinar e avaliar uma rede neural recorrente (RNN\n",
    "ou LSTM) para classificar um conjunto de dados sobre notícias de acordo com\n",
    "suas categorias.\n",
    "A rede neural pode ser criada utilizando o PyTorch ou Tensorflow/Keras. A rede\n",
    "neural deve ser avaliada através do cálculo da acurácia (quantidade de acertos\n",
    "dividido pela quantidade total de testes).\n",
    "### **Dados**\n",
    "Os dados utilizados são dados de notícias e suas categorias disponíveis através\n",
    "da biblioteca datasets. Os dados podem ser acessados assim:\n",
    "import datasets\n",
    "dataset = datasets.load_dataset(\"okite97/news-data\")\n",
    "Esse conjunto de dados contém 3 campos: o título da notícia, um trecho da\n",
    "notícia e a categoria. Você deve usar o título ou o trecho para encontrar a\n",
    "categoria."
   ]
  },
  {
   "cell_type": "markdown",
   "id": "6e3e6c63-1af6-4e7c-99d8-38609c4539ff",
   "metadata": {},
   "source": [
    "**Importando as bibliotecascnecessárias**"
   ]
  },
  {
   "cell_type": "code",
   "execution_count": 330,
   "id": "e02d6ab7-e2e9-441a-ace7-6c5b73e3e88a",
   "metadata": {},
   "outputs": [
    {
     "name": "stderr",
     "output_type": "stream",
     "text": [
      "[nltk_data] Downloading package stopwords to\n",
      "[nltk_data]     /home/mariaeco/nltk_data...\n",
      "[nltk_data]   Package stopwords is already up-to-date!\n"
     ]
    }
   ],
   "source": [
    "import datasets\n",
    "import pandas as pd\n",
    "\n",
    "\n",
    "from nltk.tokenize import word_tokenize\n",
    "\n",
    "from nltk.corpus import stopwords\n",
    "import nltk\n",
    "import string\n",
    "\n",
    "from collections import Counter\n",
    "\n",
    "nltk.download('stopwords')\n",
    "stop_words = set(stopwords.words(\"english\"))\n",
    "\n",
    "import torch\n",
    "import numpy as np\n",
    "from torch.utils.data import Dataset, DataLoader\n"
   ]
  },
  {
   "cell_type": "code",
   "execution_count": 331,
   "id": "9b499235-81ae-445b-bdc8-a18d990411c8",
   "metadata": {},
   "outputs": [
    {
     "data": {
      "text/plain": [
       "DatasetDict({\n",
       "    train: Dataset({\n",
       "        features: ['Title', 'Excerpt', 'Category'],\n",
       "        num_rows: 4686\n",
       "    })\n",
       "    test: Dataset({\n",
       "        features: ['Title', 'Excerpt', 'Category'],\n",
       "        num_rows: 828\n",
       "    })\n",
       "})"
      ]
     },
     "execution_count": 331,
     "metadata": {},
     "output_type": "execute_result"
    }
   ],
   "source": [
    "dataset = datasets.load_dataset(\"okite97/news-data\")\n",
    "dataset"
   ]
  },
  {
   "cell_type": "code",
   "execution_count": 332,
   "id": "f574024e-9fae-498a-859e-9ec8e4867470",
   "metadata": {},
   "outputs": [
    {
     "data": {
      "text/plain": [
       "['Uefa Opens Proceedings against Barcelona, Juventus and Real Madrid Over European Super League Plan',\n",
       " 'Amazon\\xa0Blames Inflation as It Increases Cost of\\xa0Prime\\xa0in\\xa0Europe',\n",
       " 'Nigeria’s Parliament Passes Amended Electoral Bill',\n",
       " 'Nigeria: Lagos Governor Tests Positive for Covid-19, Kaduna Governor Self-Isolates',\n",
       " 'South Africa Calls For Calm as Electoral Reform Protests Continue in Eswatini',\n",
       " 'Guardiola To Leave Man City When Contract Expires in 2023',\n",
       " 'Nigeria: Sultan of Sokoto Seeks Removal of Immunity Clause for Politicians',\n",
       " 'Again, Nigeria Senate\\xa0Demands\\xa0Rejig of Nigeria’s Security Architecture',\n",
       " 'Nigeria: South-East’s Most Important  Demand is Reintegration, Agitations Will End with Igbo Presidency, Says Ex-Senate President Anyim',\n",
       " 'Premier League Clubs Reject ‘Project Big Picture’']"
      ]
     },
     "execution_count": 332,
     "metadata": {},
     "output_type": "execute_result"
    }
   ],
   "source": [
    "#conjunto treino\n",
    "dataset['train']['Title'][:10]"
   ]
  },
  {
   "cell_type": "code",
   "execution_count": 333,
   "id": "49ef5bef-943b-46aa-9e6a-8571cbe96099",
   "metadata": {},
   "outputs": [
    {
     "data": {
      "text/plain": [
       "['Nigeria: Cross River Governor Ayade Dumps PDP for APC',\n",
       " 'Electoral Bill: Nigeria Senate Mobilises to Override President’s Veto, House Defers Battle Till January',\n",
       " 'Nigeria: Central Bank Increases Forex Allocation to Banks',\n",
       " 'Nigeria to Set Up Fund to Cover 83m Poor Citizens, as Buhari Signs National Health Authority Bill into Law',\n",
       " 'World Bank Revises Sub-Saharan Africa’s Growth Forecast to 3.4%',\n",
       " 'Putin Signs Law Paving Way to Rule Until 2036',\n",
       " 'Lagos Suspends  NURTW From Parks, Takes Over Transport Union’s Operations',\n",
       " 'Power Devolution, State Police Demands Dominate Nigeria’s Constitution Review Hearings',\n",
       " 'Former Champions Ghana, South Africa Set For AFCON Qualifiers Showdown in Johannesburg Thursday',\n",
       " 'New Petroleum Act: Nigeria Says No Immediate Removal of Petrol Subsidy']"
      ]
     },
     "execution_count": 333,
     "metadata": {},
     "output_type": "execute_result"
    }
   ],
   "source": [
    "dataset['test']['Title'][:10]"
   ]
  },
  {
   "cell_type": "code",
   "execution_count": 334,
   "id": "edd7a1d7-674e-4a24-8978-7c34cf1b1ae2",
   "metadata": {},
   "outputs": [
    {
     "name": "stdout",
     "output_type": "stream",
     "text": [
      "Categorias treino ['business' 'entertainment' 'health' 'politics' 'sports' 'tech'] \n",
      "Categorias teste ['business' 'entertainment' 'health' 'politics' 'sports' 'tech']\n"
     ]
    }
   ],
   "source": [
    "print(\"Categorias treino\", np.unique(dataset['train']['Category']), \"\\nCategorias teste\",np.unique(dataset['test']['Category']))"
   ]
  },
  {
   "cell_type": "markdown",
   "id": "18dce486-437f-4ed0-90e3-c11a2def0551",
   "metadata": {},
   "source": [
    "### Transformando texto em numero"
   ]
  },
  {
   "cell_type": "code",
   "execution_count": 335,
   "id": "67e5441c-b496-4987-a846-ec362f40e877",
   "metadata": {},
   "outputs": [
    {
     "name": "stdout",
     "output_type": "stream",
     "text": [
      "DatasetDict({\n",
      "    train: Dataset({\n",
      "        features: ['Title', 'Excerpt', 'Category', 'label'],\n",
      "        num_rows: 4686\n",
      "    })\n",
      "    test: Dataset({\n",
      "        features: ['Title', 'Excerpt', 'Category', 'label'],\n",
      "        num_rows: 828\n",
      "    })\n",
      "})\n"
     ]
    }
   ],
   "source": [
    "def create_labels(row):\n",
    "    label = row['Category']\n",
    "    if label == 'sports':\n",
    "        row['label'] = 0\n",
    "    if label == 'business':\n",
    "        row['label'] = 1\n",
    "    if label == 'health':\n",
    "        row['label'] = 2\n",
    "    if label == 'tech':\n",
    "        row['label'] = 3\n",
    "    if label == 'entertainment':\n",
    "        row['label'] = 4\n",
    "    if label == 'politics':\n",
    "        row['label'] = 5\n",
    "    return row\n",
    "\n",
    "dataset = dataset.map(create_labels)\n",
    "print(dataset)"
   ]
  },
  {
   "cell_type": "code",
   "execution_count": 336,
   "id": "a35d9eab-32ce-4a7d-b7a3-533b6fe4206b",
   "metadata": {},
   "outputs": [],
   "source": [
    "def split_tokens(row):\n",
    "    tokens = word_tokenize(row['Excerpt'].lower())\n",
    "    tokens = [t for t in tokens if t.isalpha() and t not in stop_words]\n",
    "    row['tokens'] = tokens\n",
    "    return row\n",
    "\n",
    "dataset = dataset.map(split_tokens)\n"
   ]
  },
  {
   "cell_type": "code",
   "execution_count": 337,
   "id": "8dda8d5d-bcc9-4050-8c5c-e02290719327",
   "metadata": {},
   "outputs": [
    {
     "data": {
      "text/plain": [
       "DatasetDict({\n",
       "    train: Dataset({\n",
       "        features: ['Title', 'Excerpt', 'Category', 'label', 'tokens'],\n",
       "        num_rows: 4686\n",
       "    })\n",
       "    test: Dataset({\n",
       "        features: ['Title', 'Excerpt', 'Category', 'label', 'tokens'],\n",
       "        num_rows: 828\n",
       "    })\n",
       "})"
      ]
     },
     "execution_count": 337,
     "metadata": {},
     "output_type": "execute_result"
    }
   ],
   "source": [
    "dataset"
   ]
  },
  {
   "cell_type": "code",
   "execution_count": 338,
   "id": "dcc43f8e-3de6-42ab-8754-19af8160825f",
   "metadata": {},
   "outputs": [
    {
     "data": {
      "text/plain": [
       "57058"
      ]
     },
     "execution_count": 338,
     "metadata": {},
     "output_type": "execute_result"
    }
   ],
   "source": [
    "all_tokens = []\n",
    "\n",
    "for tokens in dataset['train']['tokens']:\n",
    "  all_tokens.extend(tokens)\n",
    "\n",
    "len(all_tokens)"
   ]
  },
  {
   "cell_type": "code",
   "execution_count": 339,
   "id": "a8b41e84-7f49-4521-aa7f-c84aa9a5268a",
   "metadata": {},
   "outputs": [
    {
     "data": {
      "text/plain": [
       "[('nigeria', 941),\n",
       " ('president', 510),\n",
       " ('said', 394),\n",
       " ('nigerian', 346),\n",
       " ('state', 291),\n",
       " ('national', 287),\n",
       " ('government', 267),\n",
       " ('new', 256),\n",
       " ('world', 240),\n",
       " ('first', 238),\n",
       " ('tuesday', 216),\n",
       " ('thursday', 215),\n",
       " ('united', 213),\n",
       " ('federal', 212),\n",
       " ('us', 212),\n",
       " ('league', 211),\n",
       " ('country', 211),\n",
       " ('governor', 209),\n",
       " ('former', 208),\n",
       " ('bank', 207)]"
      ]
     },
     "execution_count": 339,
     "metadata": {},
     "output_type": "execute_result"
    }
   ],
   "source": [
    "counts = Counter(all_tokens)\n",
    "counts.most_common(20)"
   ]
  },
  {
   "cell_type": "code",
   "execution_count": 340,
   "id": "7a96e1fd-8c2b-453c-9cc6-f39320094422",
   "metadata": {},
   "outputs": [
    {
     "data": {
      "text/plain": [
       "5343"
      ]
     },
     "execution_count": 340,
     "metadata": {},
     "output_type": "execute_result"
    }
   ],
   "source": [
    "vocab = [token for token, count in counts.items() if count >= 2]\n",
    "vocab = ['<unk>'] + vocab #precisamos inserir para tokens desconhecidos\n",
    "len(vocab)"
   ]
  },
  {
   "cell_type": "code",
   "execution_count": 341,
   "id": "280399e8-2136-44d0-944b-20cbc1bd1030",
   "metadata": {},
   "outputs": [],
   "source": [
    "token2id = {token: idx for idx, token in enumerate(vocab)} #mapeando os ids para os tokens"
   ]
  },
  {
   "cell_type": "code",
   "execution_count": 342,
   "id": "7ab0635e-7e59-455f-8cf1-1d2ef19636c5",
   "metadata": {},
   "outputs": [],
   "source": [
    "def convert_tokens(tokens):\n",
    "  result = []\n",
    "  for token in tokens:\n",
    "    result.append(token2id.get(token, 0))\n",
    "\n",
    "  return result\n",
    "    \n",
    "# res = convert_tokens(df_train['tokens'][200]) #indices dos tokens da linha\n",
    "def tokens2id(row):\n",
    "    row['tokens_id'] = convert_tokens(row['tokens'])\n",
    "    return row\n",
    "dataset = dataset.map(tokens2id)"
   ]
  },
  {
   "cell_type": "code",
   "execution_count": 343,
   "id": "9023d14b-ecc0-40ee-8d29-9e464af4ff3b",
   "metadata": {},
   "outputs": [
    {
     "data": {
      "text/plain": [
       "DatasetDict({\n",
       "    train: Dataset({\n",
       "        features: ['Title', 'Excerpt', 'Category', 'label', 'tokens', 'tokens_id'],\n",
       "        num_rows: 4686\n",
       "    })\n",
       "    test: Dataset({\n",
       "        features: ['Title', 'Excerpt', 'Category', 'label', 'tokens', 'tokens_id'],\n",
       "        num_rows: 828\n",
       "    })\n",
       "})"
      ]
     },
     "execution_count": 343,
     "metadata": {},
     "output_type": "execute_result"
    }
   ],
   "source": [
    "dataset"
   ]
  },
  {
   "cell_type": "markdown",
   "id": "5d95c7ea-6c1a-484a-980b-8cba63b01601",
   "metadata": {},
   "source": [
    "### Primeiro precisamos converter o dado em tensores pythorch"
   ]
  },
  {
   "cell_type": "code",
   "execution_count": 344,
   "id": "b6fe39f5-4481-49d9-a7ce-be764811a599",
   "metadata": {},
   "outputs": [],
   "source": [
    "class Datatorch(Dataset):\n",
    "  def __init__(self, dataset):\n",
    "    self.data = dataset['tokens_id']\n",
    "    self.labels = dataset['label']\n",
    "\n",
    "  def __len__(self):\n",
    "    return len(self.labels)\n",
    "\n",
    "  def __getitem__(self, idx):\n",
    "    return torch.tensor(self.data[idx]), torch.tensor(self.labels[idx])"
   ]
  },
  {
   "cell_type": "code",
   "execution_count": 345,
   "id": "99694222-4507-4687-94dc-9149749833ec",
   "metadata": {},
   "outputs": [],
   "source": [
    "train_data = Datatorch(dataset['train'])\n"
   ]
  },
  {
   "cell_type": "code",
   "execution_count": 346,
   "id": "180b082a-eb9f-444b-9573-45111fd1dd01",
   "metadata": {},
   "outputs": [],
   "source": [
    "from torch import nn\n",
    "\n",
    "EMBED_LEN = 128\n",
    "HIDDEN_DIM = 32\n",
    "N_LAYERS = 2\n",
    "\n",
    "class TextClassifier(nn.Module):\n",
    "  def __init__(self):\n",
    "    super(TextClassifier, self).__init__()\n",
    "\n",
    "    self.embedding_layer = nn.Embedding(num_embeddings=len(vocab),embedding_dim=EMBED_LEN)\n",
    "    self.rnn = nn.LSTM(input_size=EMBED_LEN, hidden_size=HIDDEN_DIM, num_layers=N_LAYERS)\n",
    "    self.linear = nn.Linear(HIDDEN_DIM,6) # 6 CLASSES\n",
    "    self.CrossEntropyLoss = nn.CrossEntropyLoss()\n",
    "\n",
    "  def forward(self, input, target=None):\n",
    "    embeddings = self.embedding_layer(input)\n",
    "    # print('embeddings', embeddings)\n",
    "    # print('embeddings shape', embeddings.shape)\n",
    "    output, (final_hidden, final_cell)  = self.rnn(embeddings)\n",
    "    return self.linear(final_hidden[-1])"
   ]
  },
  {
   "cell_type": "code",
   "execution_count": 347,
   "id": "40fbbee1-3c27-4949-8d79-464f0b28083d",
   "metadata": {},
   "outputs": [
    {
     "data": {
      "text/plain": [
       "tensor([-0.1834,  0.0143,  0.0734, -0.0796, -0.1612, -0.1358],\n",
       "       grad_fn=<ViewBackward0>)"
      ]
     },
     "execution_count": 347,
     "metadata": {},
     "output_type": "execute_result"
    }
   ],
   "source": [
    "model = TextClassifier()\n",
    "model(torch.tensor(dataset['train']['tokens_id'][0]), torch.tensor(dataset['train']['label'][0]))"
   ]
  },
  {
   "cell_type": "code",
   "execution_count": 348,
   "id": "5d08c1f6-cd46-483e-85ea-c2efbd960fb3",
   "metadata": {},
   "outputs": [],
   "source": [
    "LR = 1e-3\n",
    "EPOCHS = 3\n",
    "optimizer = torch.optim.Adam(model.parameters(), lr=LR)"
   ]
  },
  {
   "cell_type": "code",
   "execution_count": 349,
   "id": "74e42f25-b2f2-485b-92ab-4215d38b22c7",
   "metadata": {},
   "outputs": [],
   "source": [
    "from tqdm.notebook import tqdm\n",
    "\n",
    "def train(dataloader):\n",
    "  size = len(dataloader.dataset)\n",
    "  train_loss = 0\n",
    "\n",
    "  for batch, (data, label) in enumerate(tqdm(dataloader)):\n",
    "      data, label = data.to(device), label.to(device) \n",
    "      out = model(data[0],label) \n",
    "      loss = model.CrossEntropyLoss(out.squeeze(0), label.squeeze().to(torch.long)) \n",
    "      train_loss += loss.item()\n",
    "\n",
    "      \n",
    "      optimizer.zero_grad()# Backpropagation através do tempo e atualização dos pesos\n",
    "      loss.backward()\n",
    "      optimizer.step()\n",
    "\n",
    "      if batch % 1000 == 0:\n",
    "          loss, current = loss.item(), batch * len(data)\n",
    "          print(f' loss: {loss:>7f}  [{current:>5d}/{size:>5d}]')\n",
    "\n",
    "  train_loss /= size \n",
    "\n",
    "  return train_loss"
   ]
  },
  {
   "cell_type": "code",
   "execution_count": 350,
   "id": "abfae28c-ea01-47f3-8812-cb5b64afccda",
   "metadata": {},
   "outputs": [],
   "source": [
    "def test(dataloader):\n",
    "  size = len(dataloader.dataset)\n",
    "  test_loss = 0\n",
    "  correct = 0\n",
    "\n",
    "  with torch.no_grad(): \n",
    "    for data, label in tqdm(dataloader):\n",
    "      data, label = data.to(device), label.to(device)\n",
    "      out = model(data[0],label)\n",
    "\n",
    "      loss = model.CrossEntropyLoss(out.squeeze(0), label.squeeze().to(torch.long))\n",
    "      test_loss += loss.item()\n",
    "\n",
    "      label_out = torch.argmax(out).to(torch.long)\n",
    "\n",
    "      if label_out == label[0]:\n",
    "        correct += 1\n",
    "\n",
    "\n",
    "  test_loss /= size  \n",
    "  correct /= size  \n",
    "\n",
    "  print(f' test accuracy: {(100*correct):>0.1f}%, test loss: {test_loss:>8f} ')\n",
    "\n",
    "  return test_loss"
   ]
  },
  {
   "cell_type": "code",
   "execution_count": 351,
   "id": "732d4cde-428b-47b8-98c7-970ce98e92e1",
   "metadata": {},
   "outputs": [
    {
     "data": {
      "text/plain": [
       "TextClassifier(\n",
       "  (embedding_layer): Embedding(5343, 128)\n",
       "  (rnn): LSTM(128, 32, num_layers=2)\n",
       "  (linear): Linear(in_features=32, out_features=6, bias=True)\n",
       "  (CrossEntropyLoss): CrossEntropyLoss()\n",
       ")"
      ]
     },
     "execution_count": 351,
     "metadata": {},
     "output_type": "execute_result"
    }
   ],
   "source": [
    "device = torch.device('cpu')\n",
    "model.to(device)"
   ]
  },
  {
   "cell_type": "code",
   "execution_count": 352,
   "id": "5ad28124-a938-4618-b204-f56166807e06",
   "metadata": {},
   "outputs": [],
   "source": [
    "dataloader_train = DataLoader(train_data, shuffle=True)\n",
    "dataloader_test = DataLoader(Datatorch(dataset['test']), shuffle=True)\n"
   ]
  },
  {
   "cell_type": "code",
   "execution_count": 353,
   "id": "5f8e3003-f14f-4e8f-9348-b2edf87cff7f",
   "metadata": {},
   "outputs": [
    {
     "name": "stdout",
     "output_type": "stream",
     "text": [
      "Epoch 1 -------------------------------\n",
      "Train\n"
     ]
    },
    {
     "data": {
      "application/vnd.jupyter.widget-view+json": {
       "model_id": "d963eef81e8b4c45b6368bdca21abe59",
       "version_major": 2,
       "version_minor": 0
      },
      "text/plain": [
       "  0%|          | 0/4686 [00:00<?, ?it/s]"
      ]
     },
     "metadata": {},
     "output_type": "display_data"
    },
    {
     "name": "stdout",
     "output_type": "stream",
     "text": [
      " loss: 1.845120  [    0/ 4686]\n",
      " loss: 0.659952  [ 1000/ 4686]\n",
      " loss: 1.286706  [ 2000/ 4686]\n",
      " loss: 0.726578  [ 3000/ 4686]\n",
      " loss: 0.250600  [ 4000/ 4686]\n",
      "Test\n"
     ]
    },
    {
     "data": {
      "application/vnd.jupyter.widget-view+json": {
       "model_id": "216ecfbbdb5644e58bd8b6de986c0641",
       "version_major": 2,
       "version_minor": 0
      },
      "text/plain": [
       "  0%|          | 0/828 [00:00<?, ?it/s]"
      ]
     },
     "metadata": {},
     "output_type": "display_data"
    },
    {
     "name": "stdout",
     "output_type": "stream",
     "text": [
      " test accuracy: 74.5%, test loss: 0.739279 \n",
      "Epoch 2 -------------------------------\n",
      "Train\n"
     ]
    },
    {
     "data": {
      "application/vnd.jupyter.widget-view+json": {
       "model_id": "4564b97515cd4d15ba6a8369e70a9e8c",
       "version_major": 2,
       "version_minor": 0
      },
      "text/plain": [
       "  0%|          | 0/4686 [00:00<?, ?it/s]"
      ]
     },
     "metadata": {},
     "output_type": "display_data"
    },
    {
     "name": "stdout",
     "output_type": "stream",
     "text": [
      " loss: 1.178277  [    0/ 4686]\n",
      " loss: 0.819385  [ 1000/ 4686]\n",
      " loss: 0.026322  [ 2000/ 4686]\n",
      " loss: 2.780461  [ 3000/ 4686]\n",
      " loss: 0.034688  [ 4000/ 4686]\n",
      "Test\n"
     ]
    },
    {
     "data": {
      "application/vnd.jupyter.widget-view+json": {
       "model_id": "c20c5b5abc0e4784be0c5aba5acfcacf",
       "version_major": 2,
       "version_minor": 0
      },
      "text/plain": [
       "  0%|          | 0/828 [00:00<?, ?it/s]"
      ]
     },
     "metadata": {},
     "output_type": "display_data"
    },
    {
     "name": "stdout",
     "output_type": "stream",
     "text": [
      " test accuracy: 78.0%, test loss: 0.636235 \n",
      "Epoch 3 -------------------------------\n",
      "Train\n"
     ]
    },
    {
     "data": {
      "application/vnd.jupyter.widget-view+json": {
       "model_id": "26998b2bbe6b4fa2bc1fa92def11fdc7",
       "version_major": 2,
       "version_minor": 0
      },
      "text/plain": [
       "  0%|          | 0/4686 [00:00<?, ?it/s]"
      ]
     },
     "metadata": {},
     "output_type": "display_data"
    },
    {
     "name": "stdout",
     "output_type": "stream",
     "text": [
      " loss: 2.465256  [    0/ 4686]\n",
      " loss: 0.035657  [ 1000/ 4686]\n",
      " loss: 0.005533  [ 2000/ 4686]\n",
      " loss: 3.278414  [ 3000/ 4686]\n",
      " loss: 0.028122  [ 4000/ 4686]\n",
      "Test\n"
     ]
    },
    {
     "data": {
      "application/vnd.jupyter.widget-view+json": {
       "model_id": "0e9e6dc2c0a444c6b35539d4e00bac1a",
       "version_major": 2,
       "version_minor": 0
      },
      "text/plain": [
       "  0%|          | 0/828 [00:00<?, ?it/s]"
      ]
     },
     "metadata": {},
     "output_type": "display_data"
    },
    {
     "name": "stdout",
     "output_type": "stream",
     "text": [
      " test accuracy: 78.5%, test loss: 0.640314 \n"
     ]
    }
   ],
   "source": [
    "train_losses = []\n",
    "test_losses = []\n",
    "\n",
    "for t in range(EPOCHS):\n",
    "    print(f'Epoch {t+1} -------------------------------')\n",
    "\n",
    "    print('Train')\n",
    "    train_losses.append(train(dataloader_train))\n",
    "\n",
    "    print('Test')\n",
    "    test_losses.append(test(dataloader_test))"
   ]
  },
  {
   "cell_type": "code",
   "execution_count": 354,
   "id": "336775c2-edd2-4906-9095-302cfeacf3da",
   "metadata": {},
   "outputs": [
    {
     "data": {
      "image/png": "[encoded data removed]",
      "text/plain": [
       "<Figure size 640x480 with 1 Axes>"
      ]
     },
     "metadata": {},
     "output_type": "display_data"
    }
   ],
   "source": [
    "import matplotlib.pyplot as plt\n",
    "plt.plot(train_losses, label='Train Loss')\n",
    "plt.plot(test_losses, label='Test Loss')\n",
    "plt.legend()\n",
    "plt.show()"
   ]
  }
 ],
 "metadata": {
  "kernelspec": {
   "display_name": "Python 3 (ipykernel)",
   "language": "python",
   "name": "python3"
  },
  "language_info": {
   "codemirror_mode": {
    "name": "ipython",
    "version": 3
   },
   "file_extension": ".py",
   "mimetype": "text/x-python",
   "name": "python",
   "nbconvert_exporter": "python",
   "pygments_lexer": "ipython3",
   "version": "3.10.16"
  }
 },
 "nbformat": 4,
 "nbformat_minor": 5
}
